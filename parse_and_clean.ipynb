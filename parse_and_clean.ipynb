{
 "cells": [
  {
   "cell_type": "code",
   "execution_count": 27,
   "id": "74365eb7",
   "metadata": {},
   "outputs": [],
   "source": [
    "# !conda install -c conda-forge python-docx "
   ]
  },
  {
   "cell_type": "code",
   "execution_count": 68,
   "id": "435958e1",
   "metadata": {},
   "outputs": [],
   "source": [
    "import pandas as pd\n",
    "import numpy as np\n",
    "\n",
    "import requests\n",
    "from bs4 import BeautifulSoup \n",
    "from tqdm import tqdm\n",
    "\n",
    "import docx"
   ]
  },
  {
   "cell_type": "markdown",
   "id": "67163fce",
   "metadata": {},
   "source": [
    "### Загрузка данных\n",
    "\n",
    "Просмотр файлов ._json_.\n",
    "\n",
    "Стратегия: Соединяем все файлы в один (создаем список файлов, добавляем по одному в общий файл и затем обрабатываем все вместе).\n",
    "Стратегия 2.0: Просматриваем отдельно все файлы в папке и добавляем данные в датасет."
   ]
  },
  {
   "cell_type": "code",
   "execution_count": 584,
   "id": "c0d78ad0",
   "metadata": {},
   "outputs": [],
   "source": [
    "import glob\n",
    "import os\n",
    "import json\n",
    "from collections import defaultdict"
   ]
  },
  {
   "cell_type": "code",
   "execution_count": 590,
   "id": "716e2d22",
   "metadata": {},
   "outputs": [
    {
     "name": "stdout",
     "output_type": "stream",
     "text": [
      "['Example', 'MMM']\n"
     ]
    }
   ],
   "source": [
    "# path = os.path.abspath(\"Data\")\n",
    "# print(glob.glob(path+\"/*.json\"))\n",
    "\n",
    "# all_filenames = []\n",
    "\n",
    "# for i in glob.glob(path+\"/*.json\"):\n",
    "#     all_filenames.append(i.split('/')[-1].split('.')[0])\n",
    "\n",
    "# print(all_filenames)"
   ]
  },
  {
   "cell_type": "markdown",
   "id": "8eebb4bc",
   "metadata": {},
   "source": [
    "{\n",
    "\n",
    "    \"info\": null, \n",
    "    \n",
    "    \"refs\": [[\"text\", \"12.02.2002\", 123]], \n",
    "    \n",
    "    \"desc\": {\n",
    "    \n",
    "        \"month\": \"12\", \n",
    "        \n",
    "        \"rate\": 1\n",
    "        \n",
    "     }\n",
    "     \n",
    "}"
   ]
  },
  {
   "cell_type": "code",
   "execution_count": 593,
   "id": "7a93d3b5",
   "metadata": {
    "scrolled": true
   },
   "outputs": [],
   "source": [
    "data_for_df = defaultdict(list)\n",
    "\n",
    "for filename in glob.glob('./Data/*.json'): # все файлы формата json в папке\n",
    "    with open(filename, 'r', encoding='utf-8') as f:\n",
    "        data = json.load(f)\n",
    "        for ref in data['refs']:\n",
    "            if ref is not None:\n",
    "                data_for_df['text'].append(ref[0])\n",
    "                data_for_df['date'].append(ref[1])\n",
    "                data_for_df['views'].append(ref[2])\n",
    "                data_for_df['company_desc'].append(data['desc']['month'])\n",
    "                data_for_df['company_rate'].append(data['desc']['rate'])\n",
    "                data_for_df['company_name'].append(filename.split('/')[-1].split('.')[0])"
   ]
  },
  {
   "cell_type": "code",
   "execution_count": 596,
   "id": "e09587b1",
   "metadata": {},
   "outputs": [
    {
     "data": {
      "text/html": [
       "<div>\n",
       "<style scoped>\n",
       "    .dataframe tbody tr th:only-of-type {\n",
       "        vertical-align: middle;\n",
       "    }\n",
       "\n",
       "    .dataframe tbody tr th {\n",
       "        vertical-align: top;\n",
       "    }\n",
       "\n",
       "    .dataframe thead th {\n",
       "        text-align: right;\n",
       "    }\n",
       "</style>\n",
       "<table border=\"1\" class=\"dataframe\">\n",
       "  <thead>\n",
       "    <tr style=\"text-align: right;\">\n",
       "      <th></th>\n",
       "      <th>text</th>\n",
       "      <th>date</th>\n",
       "      <th>views</th>\n",
       "      <th>company_desc</th>\n",
       "      <th>company_rate</th>\n",
       "      <th>company_name</th>\n",
       "    </tr>\n",
       "  </thead>\n",
       "  <tbody>\n",
       "    <tr>\n",
       "      <th>0</th>\n",
       "      <td>text</td>\n",
       "      <td>12.02.2002</td>\n",
       "      <td>123</td>\n",
       "      <td>12</td>\n",
       "      <td>1</td>\n",
       "      <td>Example</td>\n",
       "    </tr>\n",
       "    <tr>\n",
       "      <th>1</th>\n",
       "      <td>text</td>\n",
       "      <td>12.02.2002</td>\n",
       "      <td>123</td>\n",
       "      <td>12</td>\n",
       "      <td>1</td>\n",
       "      <td>MMM</td>\n",
       "    </tr>\n",
       "  </tbody>\n",
       "</table>\n",
       "</div>"
      ],
      "text/plain": [
       "   text        date  views company_desc  company_rate company_name\n",
       "0  text  12.02.2002    123           12             1      Example\n",
       "1  text  12.02.2002    123           12             1          MMM"
      ]
     },
     "execution_count": 596,
     "metadata": {},
     "output_type": "execute_result"
    }
   ],
   "source": [
    "data_for_df = pd.DataFrame(data_for_df)\n",
    "data_for_df"
   ]
  },
  {
   "cell_type": "markdown",
   "id": "6a8c3c05",
   "metadata": {},
   "source": [
    "### Парсинг\n",
    "\n",
    "Сайта Habr (habr.com/ru/search/)"
   ]
  },
  {
   "cell_type": "code",
   "execution_count": 82,
   "id": "a1f34e14",
   "metadata": {},
   "outputs": [],
   "source": [
    "filename = 'Condidates.docx'\n",
    "document = docx.Document(filename)\n",
    "\n",
    "companies = [] # массив с именами компаний\n",
    "for p in document.paragraphs:\n",
    "    companies.append(p.text)"
   ]
  },
  {
   "cell_type": "markdown",
   "id": "3a6f807d",
   "metadata": {},
   "source": [
    "**Ф-ия поиска компании в основном поисковике**"
   ]
  },
  {
   "cell_type": "code",
   "execution_count": 602,
   "id": "138dd5a0",
   "metadata": {},
   "outputs": [],
   "source": [
    "companies_info = pd.DataFrame(np.zeros((1, 6)))\n",
    "companies_info.columns = ['company', 'motto', 'rate', 'subs', 'description', 'access']"
   ]
  },
  {
   "cell_type": "code",
   "execution_count": 603,
   "id": "072c948e",
   "metadata": {},
   "outputs": [
    {
     "name": "stdout",
     "output_type": "stream",
     "text": [
      "'NoneType' object has no attribute 'text'\n",
      "'NoneType' object has no attribute 'text'\n",
      "'NoneType' object has no attribute 'text'\n",
      "'NoneType' object has no attribute 'text'\n",
      "'NoneType' object has no attribute 'text'\n",
      "'NoneType' object has no attribute 'text'\n",
      "'NoneType' object has no attribute 'text'\n",
      "'NoneType' object has no attribute 'text'\n",
      "'NoneType' object has no attribute 'text'\n",
      "'NoneType' object has no attribute 'text'\n",
      "'NoneType' object has no attribute 'text'\n",
      "'NoneType' object has no attribute 'text'\n",
      "'NoneType' object has no attribute 'text'\n",
      "'NoneType' object has no attribute 'text'\n",
      "'NoneType' object has no attribute 'text'\n",
      "'NoneType' object has no attribute 'text'\n",
      "'NoneType' object has no attribute 'text'\n",
      "'NoneType' object has no attribute 'text'\n",
      "'NoneType' object has no attribute 'text'\n",
      "'NoneType' object has no attribute 'text'\n",
      "'NoneType' object has no attribute 'text'\n",
      "'NoneType' object has no attribute 'text'\n",
      "'NoneType' object has no attribute 'text'\n",
      "'NoneType' object has no attribute 'text'\n",
      "'NoneType' object has no attribute 'text'\n",
      "'NoneType' object has no attribute 'text'\n",
      "'NoneType' object has no attribute 'text'\n",
      "'NoneType' object has no attribute 'text'\n",
      "'NoneType' object has no attribute 'text'\n",
      "'NoneType' object has no attribute 'text'\n",
      "'NoneType' object has no attribute 'text'\n",
      "'NoneType' object has no attribute 'text'\n",
      "'NoneType' object has no attribute 'text'\n",
      "'NoneType' object has no attribute 'text'\n",
      "'NoneType' object has no attribute 'text'\n",
      "'NoneType' object has no attribute 'text'\n",
      "'NoneType' object has no attribute 'text'\n",
      "'NoneType' object has no attribute 'text'\n",
      "'NoneType' object has no attribute 'text'\n",
      "'NoneType' object has no attribute 'text'\n",
      "'NoneType' object has no attribute 'text'\n",
      "'NoneType' object has no attribute 'text'\n",
      "'NoneType' object has no attribute 'text'\n",
      "'NoneType' object has no attribute 'text'\n",
      "'NoneType' object has no attribute 'text'\n"
     ]
    }
   ],
   "source": [
    "def get_company_desc(access):\n",
    "    url = 'https://habr.com' + access\n",
    "    r = requests.get(url)\n",
    "    if r.status_code == 200:\n",
    "        soup = BeautifulSoup(r.text, 'html5lib')\n",
    "        description = soup.find('span', class_='tm-company-profile__content').find('span').text\n",
    "        return description\n",
    "    else:\n",
    "        return None\n",
    "\n",
    "def get_company_info(comp):\n",
    "    global companies_info\n",
    "    url = []\n",
    "    link = 'https://habr.com/ru/search/?q='+comp+'&target_type=companies&order=relevance' # поиск во вкладке 'Компания'\n",
    "    r = requests.get(link) \n",
    "    if r.status_code == 200:\n",
    "        soup = BeautifulSoup(r.text, 'html5lib')\n",
    "        doc = {}\n",
    "        try:\n",
    "            doc['company'] = comp\n",
    "            doc['motto'] = soup.find('div', class_='tm-company-snippet__description').text\n",
    "            doc['rate'] = soup.find('span', class_='tm-search-companies__score-counter tm-search-companies__score-counter_rating').text.split('\\n')[1]\n",
    "            doc['subs'] = soup.find('span', class_='tm-search-companies__score-counter tm-search-companies__score-counter_subscribers').text.split('\\n')[1]   \n",
    "            access = soup.find('div', class_='tm-company-snippet').find('a', class_='tm-company-snippet__logo-link').get('href')\n",
    "            doc['description'] = get_company_desc(access)\n",
    "            doc['access'] = access\n",
    "            companies_info = companies_info.append(doc, ignore_index=True) # загружает в отдельную выборку о компаниях\n",
    "        except Exception as exc:\n",
    "            print(exc)\n",
    "    else:\n",
    "        return None\n",
    "\n",
    "for company in companies:\n",
    "    get_company_info(company)"
   ]
  },
  {
   "cell_type": "code",
   "execution_count": 604,
   "id": "b4ae6863",
   "metadata": {},
   "outputs": [
    {
     "data": {
      "text/html": [
       "<div>\n",
       "<style scoped>\n",
       "    .dataframe tbody tr th:only-of-type {\n",
       "        vertical-align: middle;\n",
       "    }\n",
       "\n",
       "    .dataframe tbody tr th {\n",
       "        vertical-align: top;\n",
       "    }\n",
       "\n",
       "    .dataframe thead th {\n",
       "        text-align: right;\n",
       "    }\n",
       "</style>\n",
       "<table border=\"1\" class=\"dataframe\">\n",
       "  <thead>\n",
       "    <tr style=\"text-align: right;\">\n",
       "      <th></th>\n",
       "      <th>company</th>\n",
       "      <th>motto</th>\n",
       "      <th>rate</th>\n",
       "      <th>subs</th>\n",
       "      <th>description</th>\n",
       "      <th>access</th>\n",
       "    </tr>\n",
       "  </thead>\n",
       "  <tbody>\n",
       "    <tr>\n",
       "      <th>1</th>\n",
       "      <td>X5 Group</td>\n",
       "      <td>Все о цифровой трансформации ритейла</td>\n",
       "      <td>81.1</td>\n",
       "      <td>7.4K</td>\n",
       "      <td>X5 Group — это одна из ведущих компаний рынка ...</td>\n",
       "      <td>/ru/company/X5Group/profile/</td>\n",
       "    </tr>\n",
       "    <tr>\n",
       "      <th>2</th>\n",
       "      <td>Нетология</td>\n",
       "      <td>Образовательная платформа</td>\n",
       "      <td>99.45</td>\n",
       "      <td>47K</td>\n",
       "      <td>Нетология обучает современным востребованным п...</td>\n",
       "      <td>/ru/company/netologyru/profile/</td>\n",
       "    </tr>\n",
       "    <tr>\n",
       "      <th>3</th>\n",
       "      <td>Иннотех</td>\n",
       "      <td>We help the businesses with digital transforma...</td>\n",
       "      <td>25.68</td>\n",
       "      <td>87</td>\n",
       "      <td>Мы мыслим инновациями\\n\\nГК «Иннотех» — это со...</td>\n",
       "      <td>/ru/company/innotech/profile/</td>\n",
       "    </tr>\n",
       "    <tr>\n",
       "      <th>4</th>\n",
       "      <td>Skillbox</td>\n",
       "      <td>Образовательная платформа Skillbox</td>\n",
       "      <td>100.32</td>\n",
       "      <td>71K</td>\n",
       "      <td>Образовательная платформа Skillbox — один из л...</td>\n",
       "      <td>/ru/company/skillbox/profile/</td>\n",
       "    </tr>\n",
       "    <tr>\n",
       "      <th>5</th>\n",
       "      <td>Билайн</td>\n",
       "      <td>Компания</td>\n",
       "      <td>115.1</td>\n",
       "      <td>7.2K</td>\n",
       "      <td>ОАО «ВымпелКом» входит в группу компаний «Вымп...</td>\n",
       "      <td>/ru/company/beeline/profile/</td>\n",
       "    </tr>\n",
       "    <tr>\n",
       "      <th>6</th>\n",
       "      <td>Московская биржа</td>\n",
       "      <td>Инвестиции начинаются здесь</td>\n",
       "      <td>82.64</td>\n",
       "      <td>535</td>\n",
       "      <td>Московская биржа (входит в MOEX Group) – это к...</td>\n",
       "      <td>/ru/company/moex/profile/</td>\n",
       "    </tr>\n",
       "  </tbody>\n",
       "</table>\n",
       "</div>"
      ],
      "text/plain": [
       "            company                                              motto  \\\n",
       "1          X5 Group               Все о цифровой трансформации ритейла   \n",
       "2        Нетология                           Образовательная платформа   \n",
       "3           Иннотех  We help the businesses with digital transforma...   \n",
       "4          Skillbox                 Образовательная платформа Skillbox   \n",
       "5            Билайн                                           Компания   \n",
       "6  Московская биржа                        Инвестиции начинаются здесь   \n",
       "\n",
       "                   rate                subs  \\\n",
       "1                  81.1                7.4K   \n",
       "2                 99.45                 47K   \n",
       "3                 25.68                  87   \n",
       "4                100.32                 71K   \n",
       "5                 115.1                7.2K   \n",
       "6                 82.64                 535   \n",
       "\n",
       "                                         description  \\\n",
       "1  X5 Group — это одна из ведущих компаний рынка ...   \n",
       "2  Нетология обучает современным востребованным п...   \n",
       "3  Мы мыслим инновациями\\n\\nГК «Иннотех» — это со...   \n",
       "4  Образовательная платформа Skillbox — один из л...   \n",
       "5  ОАО «ВымпелКом» входит в группу компаний «Вымп...   \n",
       "6  Московская биржа (входит в MOEX Group) – это к...   \n",
       "\n",
       "                            access  \n",
       "1     /ru/company/X5Group/profile/  \n",
       "2  /ru/company/netologyru/profile/  \n",
       "3    /ru/company/innotech/profile/  \n",
       "4    /ru/company/skillbox/profile/  \n",
       "5     /ru/company/beeline/profile/  \n",
       "6        /ru/company/moex/profile/  "
      ]
     },
     "execution_count": 604,
     "metadata": {},
     "output_type": "execute_result"
    }
   ],
   "source": [
    "companies_info = companies_info.drop(0)\n",
    "companies_info"
   ]
  },
  {
   "cell_type": "markdown",
   "id": "8b1689aa",
   "metadata": {},
   "source": [
    "Всего 6 компаний с заполненной информацией внутри."
   ]
  },
  {
   "cell_type": "code",
   "execution_count": 605,
   "id": "f8a8d191",
   "metadata": {},
   "outputs": [
    {
     "name": "stdout",
     "output_type": "stream",
     "text": [
      "https://habr.com/ru/company/X5Group/blog/\n",
      "https://habr.com/ru/company/netologyru/blog/\n",
      "https://habr.com/ru/company/innotech/blog/\n",
      "https://habr.com/ru/company/skillbox/blog/\n",
      "https://habr.com/ru/company/beeline/blog/\n",
      "https://habr.com/ru/company/moex/blog/\n"
     ]
    }
   ],
   "source": [
    "all_links = []\n",
    "all_comp_names = [] # создадим библиотеку с названиями компаний в поисковой строке\n",
    "for comp in companies_info.company:\n",
    "    access = companies_info[companies_info.company == comp].access\n",
    "    access = access.reset_index(drop=True) \n",
    "    access = str(access)\n",
    "    company_name = access.split('/')[3]\n",
    "    link = 'https://habr.com/ru/company/' + company_name + '/blog/'\n",
    "    print(link)\n",
    "    all_comp_names.append(company_name)\n",
    "    all_links.append(link)"
   ]
  },
  {
   "cell_type": "markdown",
   "id": "8536e73f",
   "metadata": {},
   "source": [
    "**Ф-ия нахождения id постов**"
   ]
  },
  {
   "cell_type": "code",
   "execution_count": 606,
   "id": "3aaef5fa",
   "metadata": {},
   "outputs": [],
   "source": [
    "def get_page_data(comp):\n",
    "    url = []\n",
    "    link = 'https://habr.com/ru/company/' + all_comp_names[build_access(comp)] + '/blog/'\n",
    "    r = requests.get(link)\n",
    "    if r.status_code == 200:\n",
    "        soup = BeautifulSoup(r.text, 'html5lib')\n",
    "    else:\n",
    "        return None\n",
    "    dir = soup.find('div', class_='tm-articles-list')\n",
    "    news_url = dir.find_all('article', class_='tm-articles-list__item')\n",
    "    for add in news_url:\n",
    "        try:\n",
    "            url.append(add.get('id'))\n",
    "        except:\n",
    "            continue\n",
    "    return url"
   ]
  },
  {
   "cell_type": "code",
   "execution_count": 607,
   "id": "60f0a5cb",
   "metadata": {},
   "outputs": [
    {
     "data": {
      "text/plain": [
       "['658007',\n",
       " '655505',\n",
       " '653821',\n",
       " '653501',\n",
       " '651781',\n",
       " '648415',\n",
       " '594579',\n",
       " '592643',\n",
       " '591623',\n",
       " '585332',\n",
       " '583406',\n",
       " '579044',\n",
       " '576512',\n",
       " '570472',\n",
       " '569942',\n",
       " '565504',\n",
       " '554018',\n",
       " '552360',\n",
       " '541352',\n",
       " '540940']"
      ]
     },
     "execution_count": 607,
     "metadata": {},
     "output_type": "execute_result"
    }
   ],
   "source": [
    "# get_page_data('Иннотех')"
   ]
  },
  {
   "cell_type": "markdown",
   "id": "845f557e",
   "metadata": {},
   "source": [
    "**Ф-ия поиска постов компании**"
   ]
  },
  {
   "cell_type": "code",
   "execution_count": 749,
   "id": "ef93b6ec",
   "metadata": {},
   "outputs": [],
   "source": [
    "df = pd.DataFrame(np.zeros((1, 6)))\n",
    "df.columns = ['company', 'description', 'rate', 'blog_post', 'tags', 'date']"
   ]
  },
  {
   "cell_type": "code",
   "execution_count": 750,
   "id": "8e9e1f33",
   "metadata": {},
   "outputs": [],
   "source": [
    "def get_blog_content(url, comp):\n",
    "    global df\n",
    "    r = requests.get(url)\n",
    "    if r.status_code == 200:\n",
    "        soup = BeautifulSoup(r.text, 'html5lib')\n",
    "        doc = {}\n",
    "        try:\n",
    "            doc['company'] = comp\n",
    "            doc['description'] = companies_info[companies_info['company'] == comp].description\n",
    "            doc['rate'] = soup.find('div', class_='tm-rating__counter').text\n",
    "            dir = soup.find('div', class_='article-formatted-body')\n",
    "            doc['blog_post'] = dir.find('div').text\n",
    "            dir = soup.find('ul', class_='tm-separated-list__list')\n",
    "            tags = dir.find_all('li', class_='tm-separated-list__item')\n",
    "            all_tags = []\n",
    "            for tag in tags:\n",
    "                tag_text = tag.find('a', class_='tm-tags-list__link').text\n",
    "                all_tags.append(tag_text)\n",
    "            doc['tags'] = all_tags\n",
    "    #             hubs = soup.find_all('span', class_='tm-article-snippet__hubs-item')\n",
    "    #             all_hubss = []\n",
    "    #             for hub in hubs:\n",
    "    #                 hub_text = hub.find('span').text\n",
    "    #                 all_hubss.append(hub_text)\n",
    "    #             doc['hubs'] = all_hubss\n",
    "            doc['date'] = soup.find('span', class_='tm-article-snippet__datetime-published').text\n",
    "            df = df.append(doc, ignore_index=True)\n",
    "        except Exception as exc:\n",
    "            print(exc, 'it doesnt work')\n",
    "    else:\n",
    "        return None"
   ]
  },
  {
   "cell_type": "code",
   "execution_count": 742,
   "id": "ba3c8406",
   "metadata": {},
   "outputs": [],
   "source": [
    "# get_blog_content('https://habr.com/ru/company/X5Group/blog/597779/', 'X5 Group')"
   ]
  },
  {
   "cell_type": "code",
   "execution_count": 743,
   "id": "ae602a16",
   "metadata": {},
   "outputs": [],
   "source": [
    "# df"
   ]
  },
  {
   "cell_type": "code",
   "execution_count": 744,
   "id": "7a46ead9",
   "metadata": {},
   "outputs": [],
   "source": [
    "# def get_last_page(comp):\n",
    "#     link = 'https://habr.com/ru/search/?q=' + comp + '&target_type=posts&order=relevance'\n",
    "#     r = requests.get(link)\n",
    "#     if r.status_code == 200:\n",
    "#         soup = BeautifulSoup(r.text, 'html5lib')\n",
    "#         print('works')\n",
    "#     else:\n",
    "#         return None\n",
    "#     pages_url = soup.find('div', class_='tm-articles-list').find_all('article', class_='tm-articles-list__item')\n",
    "#     last_page = int(soup.find_all('div', class_='tm-pagination__page-group')[1].find_all('a', class_='tm-pagination__page')[0].text)\n",
    "#     return last_page\n",
    "\n",
    "# def get_article_content(url, comp):\n",
    "#     global df\n",
    "#     r = requests.get(url)\n",
    "#     if r.status_code == 200:\n",
    "#         soup = BeautifulSoup(r.text, 'html5lib')\n",
    "#         doc = {}\n",
    "#         try:\n",
    "#             doc['title'] = soup.find('h1', class_='tm-article-snippet__title_h1').text\n",
    "#             dir = soup.find('div', class_='article-formatted-body')\n",
    "#             doc['description'] = dir.find('div').text\n",
    "#             doc['rate'] = soup.find('div', class_='tm-rating__counter').text\n",
    "#             doc['company'] = comp\n",
    "#             dir = soup.find('ul', class_='tm-separated-list__list')\n",
    "#             tags = dir.find_all('li', class_='tm-separated-list__item')\n",
    "#             all_tags = []\n",
    "#             for tag in tags:\n",
    "#                 tag_text = tag.find('a', class_='tm-tags-list__link').text\n",
    "#                 all_tags.append(tag_text)\n",
    "#             doc['keywords'] = all_tags\n",
    "#             hubs = soup.find_all('span', class_='tm-article-snippet__hubs-item')\n",
    "#             all_hubss = []\n",
    "#             for hub in hubs:\n",
    "#                 hub_text = hub.find('span').text\n",
    "#                 all_hubss.append(hub_text)\n",
    "#             doc['hubs'] = all_hubss\n",
    "#             doc['date'] = soup.find('span', class_='tm-article-snippet__datetime-published').text\n",
    "#             df = df.append(doc, ignore_index=True)\n",
    "#         except Exception as exc:\n",
    "#             print(exc)\n",
    "#     else:\n",
    "#         return None"
   ]
  },
  {
   "cell_type": "markdown",
   "id": "facde0e4",
   "metadata": {},
   "source": [
    "**Ф-ия парсера**"
   ]
  },
  {
   "cell_type": "code",
   "execution_count": 745,
   "id": "9c57a108",
   "metadata": {},
   "outputs": [],
   "source": [
    "import warnings\n",
    "warnings.filterwarnings(\"ignore\")"
   ]
  },
  {
   "cell_type": "code",
   "execution_count": 746,
   "id": "f9a92a4b",
   "metadata": {},
   "outputs": [
    {
     "data": {
      "text/plain": [
       "array(['X5 Group', 'Нетология ', 'Иннотех', 'Skillbox', 'Билайн',\n",
       "       'Московская биржа'], dtype=object)"
      ]
     },
     "execution_count": 746,
     "metadata": {},
     "output_type": "execute_result"
    }
   ],
   "source": [
    "all_companies_in_habr = companies_info.company.unique()\n",
    "all_companies_in_habr "
   ]
  },
  {
   "cell_type": "code",
   "execution_count": 751,
   "id": "84e2f623",
   "metadata": {},
   "outputs": [
    {
     "data": {
      "text/plain": [
       "1"
      ]
     },
     "execution_count": 751,
     "metadata": {},
     "output_type": "execute_result"
    }
   ],
   "source": [
    "def build_access(comp):\n",
    "#     access = companies_info[companies_info.company == comp].index\n",
    "#     access = str(access)\n",
    "#     access = access.split('(')[1].split(']')[0].split('[')[1]\n",
    "#     access = int(access)\n",
    "#     return access-1\n",
    "    if comp == 'X5 Group':\n",
    "        access = 0\n",
    "    elif comp == 'Нетология':\n",
    "        access = 1\n",
    "    elif comp == 'Иннотех':\n",
    "        access = 2\n",
    "    elif comp == 'Skillbox':\n",
    "        access = 3\n",
    "    elif comp == 'Билайн':\n",
    "        access = 4\n",
    "    else:\n",
    "        access = 5\n",
    "    return access\n",
    "\n",
    "build_access('Нетология')\n",
    "\n",
    "# access = companies_info[companies_info.company == 'Нетология'].index\n",
    "# # access = str(access)\n",
    "# access = access #.split('(')[1].split(']')[0].split('[')[0]\n",
    "# # access = int(access)\n",
    "# access"
   ]
  },
  {
   "cell_type": "code",
   "execution_count": 752,
   "id": "d8fe810b",
   "metadata": {},
   "outputs": [
    {
     "data": {
      "text/plain": [
       "1            X5 Group\n",
       "2          Нетология \n",
       "3             Иннотех\n",
       "4            Skillbox\n",
       "5              Билайн\n",
       "6    Московская биржа\n",
       "Name: company, dtype: object"
      ]
     },
     "execution_count": 752,
     "metadata": {},
     "output_type": "execute_result"
    }
   ],
   "source": [
    "companies_info.company"
   ]
  },
  {
   "cell_type": "code",
   "execution_count": 753,
   "id": "4d102245",
   "metadata": {},
   "outputs": [],
   "source": [
    "def parser():\n",
    "    count = 0\n",
    "    for company in all_companies_in_habr:\n",
    "        urls = get_page_data(company)\n",
    "        for url in urls:\n",
    "            link = 'https://habr.com/ru/company/' + all_companies_in_habr[build_access(comp)] + '/blog/' + url + '/'\n",
    "            get_blog_content(link, company)\n",
    "            count += 1\n",
    "            print(count, link)"
   ]
  },
  {
   "cell_type": "code",
   "execution_count": 754,
   "id": "9c24a561",
   "metadata": {},
   "outputs": [
    {
     "name": "stdout",
     "output_type": "stream",
     "text": [
      "1 https://habr.com/ru/company/Московская биржа/blog/654115/\n",
      "2 https://habr.com/ru/company/Московская биржа/blog/653961/\n",
      "3 https://habr.com/ru/company/Московская биржа/blog/653571/\n",
      "4 https://habr.com/ru/company/Московская биржа/blog/652387/\n",
      "5 https://habr.com/ru/company/Московская биржа/blog/651739/\n",
      "6 https://habr.com/ru/company/Московская биржа/blog/651451/\n",
      "7 https://habr.com/ru/company/Московская биржа/blog/651057/\n",
      "8 https://habr.com/ru/company/Московская биржа/blog/650651/\n",
      "9 https://habr.com/ru/company/Московская биржа/blog/647365/\n",
      "10 https://habr.com/ru/company/Московская биржа/blog/598919/\n",
      "11 https://habr.com/ru/company/Московская биржа/blog/645651/\n",
      "12 https://habr.com/ru/company/Московская биржа/blog/597779/\n",
      "'NoneType' object has no attribute 'text' it doesnt work\n",
      "13 https://habr.com/ru/company/Московская биржа/blog/597491/\n",
      "14 https://habr.com/ru/company/Московская биржа/blog/596279/\n",
      "15 https://habr.com/ru/company/Московская биржа/blog/595387/\n",
      "16 https://habr.com/ru/company/Московская биржа/blog/594273/\n",
      "17 https://habr.com/ru/company/Московская биржа/blog/593775/\n",
      "18 https://habr.com/ru/company/Московская биржа/blog/593263/\n",
      "19 https://habr.com/ru/company/Московская биржа/blog/591091/\n",
      "20 https://habr.com/ru/company/Московская биржа/blog/591073/\n",
      "21 https://habr.com/ru/company/Московская биржа/blog/658183/\n",
      "22 https://habr.com/ru/company/Московская биржа/blog/656655/\n",
      "23 https://habr.com/ru/company/Московская биржа/blog/651847/\n",
      "24 https://habr.com/ru/company/Московская биржа/blog/646639/\n",
      "25 https://habr.com/ru/company/Московская биржа/blog/594509/\n",
      "26 https://habr.com/ru/company/Московская биржа/blog/586192/\n",
      "27 https://habr.com/ru/company/Московская биржа/blog/579676/\n",
      "28 https://habr.com/ru/company/Московская биржа/blog/578156/\n",
      "29 https://habr.com/ru/company/Московская биржа/blog/566174/\n",
      "30 https://habr.com/ru/company/Московская биржа/blog/547396/\n",
      "31 https://habr.com/ru/company/Московская биржа/blog/458304/\n",
      "32 https://habr.com/ru/company/Московская биржа/blog/444302/\n",
      "33 https://habr.com/ru/company/Московская биржа/blog/444300/\n",
      "34 https://habr.com/ru/company/Московская биржа/blog/338900/\n",
      "35 https://habr.com/ru/company/Московская биржа/blog/338892/\n",
      "36 https://habr.com/ru/company/Московская биржа/blog/321280/\n",
      "37 https://habr.com/ru/company/Московская биржа/blog/314348/\n",
      "38 https://habr.com/ru/company/Московская биржа/blog/303874/\n",
      "39 https://habr.com/ru/company/Московская биржа/blog/282620/\n",
      "40 https://habr.com/ru/company/Московская биржа/blog/277849/\n",
      "41 https://habr.com/ru/company/Московская биржа/blog/652897/\n",
      "42 https://habr.com/ru/company/Московская биржа/blog/652333/\n",
      "43 https://habr.com/ru/company/Московская биржа/blog/658007/\n",
      "44 https://habr.com/ru/company/Московская биржа/blog/655505/\n",
      "45 https://habr.com/ru/company/Московская биржа/blog/653821/\n",
      "46 https://habr.com/ru/company/Московская биржа/blog/653501/\n",
      "47 https://habr.com/ru/company/Московская биржа/blog/651781/\n",
      "48 https://habr.com/ru/company/Московская биржа/blog/648415/\n",
      "49 https://habr.com/ru/company/Московская биржа/blog/594579/\n",
      "50 https://habr.com/ru/company/Московская биржа/blog/592643/\n",
      "51 https://habr.com/ru/company/Московская биржа/blog/591623/\n",
      "52 https://habr.com/ru/company/Московская биржа/blog/585332/\n",
      "53 https://habr.com/ru/company/Московская биржа/blog/583406/\n",
      "54 https://habr.com/ru/company/Московская биржа/blog/579044/\n",
      "55 https://habr.com/ru/company/Московская биржа/blog/576512/\n",
      "56 https://habr.com/ru/company/Московская биржа/blog/570472/\n",
      "57 https://habr.com/ru/company/Московская биржа/blog/569942/\n",
      "58 https://habr.com/ru/company/Московская биржа/blog/565504/\n",
      "59 https://habr.com/ru/company/Московская биржа/blog/554018/\n",
      "60 https://habr.com/ru/company/Московская биржа/blog/552360/\n",
      "61 https://habr.com/ru/company/Московская биржа/blog/541352/\n",
      "62 https://habr.com/ru/company/Московская биржа/blog/540940/\n",
      "63 https://habr.com/ru/company/Московская биржа/blog/658197/\n",
      "64 https://habr.com/ru/company/Московская биржа/blog/657225/\n",
      "65 https://habr.com/ru/company/Московская биржа/blog/648729/\n",
      "66 https://habr.com/ru/company/Московская биржа/blog/647699/\n",
      "67 https://habr.com/ru/company/Московская биржа/blog/595737/\n",
      "68 https://habr.com/ru/company/Московская биржа/blog/595459/\n",
      "69 https://habr.com/ru/company/Московская биржа/blog/593853/\n",
      "70 https://habr.com/ru/company/Московская биржа/blog/587504/\n",
      "71 https://habr.com/ru/company/Московская биржа/blog/587508/\n",
      "72 https://habr.com/ru/company/Московская биржа/blog/585536/\n",
      "73 https://habr.com/ru/company/Московская биржа/blog/532878/\n",
      "74 https://habr.com/ru/company/Московская биржа/blog/582758/\n",
      "75 https://habr.com/ru/company/Московская биржа/blog/581718/\n",
      "76 https://habr.com/ru/company/Московская биржа/blog/580938/\n",
      "77 https://habr.com/ru/company/Московская биржа/blog/568720/\n",
      "78 https://habr.com/ru/company/Московская биржа/blog/567508/\n",
      "79 https://habr.com/ru/company/Московская биржа/blog/563072/\n",
      "80 https://habr.com/ru/company/Московская биржа/blog/556584/\n",
      "81 https://habr.com/ru/company/Московская биржа/blog/551010/\n",
      "82 https://habr.com/ru/company/Московская биржа/blog/542438/\n",
      "83 https://habr.com/ru/company/Московская биржа/blog/658183/\n",
      "84 https://habr.com/ru/company/Московская биржа/blog/656655/\n",
      "85 https://habr.com/ru/company/Московская биржа/blog/651847/\n",
      "86 https://habr.com/ru/company/Московская биржа/blog/646639/\n",
      "87 https://habr.com/ru/company/Московская биржа/blog/594509/\n",
      "88 https://habr.com/ru/company/Московская биржа/blog/586192/\n",
      "89 https://habr.com/ru/company/Московская биржа/blog/579676/\n",
      "90 https://habr.com/ru/company/Московская биржа/blog/578156/\n",
      "91 https://habr.com/ru/company/Московская биржа/blog/566174/\n",
      "92 https://habr.com/ru/company/Московская биржа/blog/547396/\n",
      "93 https://habr.com/ru/company/Московская биржа/blog/458304/\n",
      "94 https://habr.com/ru/company/Московская биржа/blog/444302/\n",
      "95 https://habr.com/ru/company/Московская биржа/blog/444300/\n",
      "96 https://habr.com/ru/company/Московская биржа/blog/338900/\n",
      "97 https://habr.com/ru/company/Московская биржа/blog/338892/\n",
      "98 https://habr.com/ru/company/Московская биржа/blog/321280/\n",
      "99 https://habr.com/ru/company/Московская биржа/blog/314348/\n",
      "100 https://habr.com/ru/company/Московская биржа/blog/303874/\n",
      "101 https://habr.com/ru/company/Московская биржа/blog/282620/\n",
      "102 https://habr.com/ru/company/Московская биржа/blog/277849/\n"
     ]
    },
    {
     "name": "stderr",
     "output_type": "stream",
     "text": [
      "\n",
      "\n",
      "\n",
      "\n",
      "0it [00:00, ?it/s]\u001b[A\u001b[A\u001b[A\u001b[A"
     ]
    },
    {
     "data": {
      "text/plain": [
       "<tqdm.std.tqdm at 0x11e6237f0>"
      ]
     },
     "execution_count": 754,
     "metadata": {},
     "output_type": "execute_result"
    }
   ],
   "source": [
    "tqdm(parser())"
   ]
  },
  {
   "cell_type": "code",
   "execution_count": 761,
   "id": "946fc7d3",
   "metadata": {},
   "outputs": [
    {
     "data": {
      "text/html": [
       "<div>\n",
       "<style scoped>\n",
       "    .dataframe tbody tr th:only-of-type {\n",
       "        vertical-align: middle;\n",
       "    }\n",
       "\n",
       "    .dataframe tbody tr th {\n",
       "        vertical-align: top;\n",
       "    }\n",
       "\n",
       "    .dataframe thead th {\n",
       "        text-align: right;\n",
       "    }\n",
       "</style>\n",
       "<table border=\"1\" class=\"dataframe\">\n",
       "  <thead>\n",
       "    <tr style=\"text-align: right;\">\n",
       "      <th></th>\n",
       "      <th>company</th>\n",
       "      <th>description</th>\n",
       "      <th>rate</th>\n",
       "      <th>blog_post</th>\n",
       "      <th>tags</th>\n",
       "      <th>date</th>\n",
       "    </tr>\n",
       "  </thead>\n",
       "  <tbody>\n",
       "    <tr>\n",
       "      <th>0</th>\n",
       "      <td>0.0</td>\n",
       "      <td>0.0</td>\n",
       "      <td>0.0</td>\n",
       "      <td>0.0</td>\n",
       "      <td>0.0</td>\n",
       "      <td>0.0</td>\n",
       "    </tr>\n",
       "    <tr>\n",
       "      <th>1</th>\n",
       "      <td>X5 Group</td>\n",
       "      <td>1    X5 Group — это одна из ведущих компаний р...</td>\n",
       "      <td>-0.6</td>\n",
       "      <td>Привет! Недавно X5 провела митап об опенсорсно...</td>\n",
       "      <td>[x5retailgroup, keycloak, базы данных, открыты...</td>\n",
       "      <td>3  марта   в 16:21</td>\n",
       "    </tr>\n",
       "    <tr>\n",
       "      <th>2</th>\n",
       "      <td>X5 Group</td>\n",
       "      <td>1    X5 Group — это одна из ведущих компаний р...</td>\n",
       "      <td>-0.6</td>\n",
       "      <td>Привет! Меня зовут Сергей Тетерюков, и я работ...</td>\n",
       "      <td>[x5retailgroup, база данных, big data, cassand...</td>\n",
       "      <td>1  марта   в 16:27</td>\n",
       "    </tr>\n",
       "    <tr>\n",
       "      <th>3</th>\n",
       "      <td>X5 Group</td>\n",
       "      <td>1    X5 Group — это одна из ведущих компаний р...</td>\n",
       "      <td>-0.6</td>\n",
       "      <td>X5 Tech приглашает студентов и выпускников вуз...</td>\n",
       "      <td>[x5retailgroup, обучение, big data, большие да...</td>\n",
       "      <td>26  февраля   в 15:38</td>\n",
       "    </tr>\n",
       "    <tr>\n",
       "      <th>4</th>\n",
       "      <td>X5 Group</td>\n",
       "      <td>1    X5 Group — это одна из ведущих компаний р...</td>\n",
       "      <td>0</td>\n",
       "      <td>Привет! Меня зовут Кирилл Цветков. Я DevOps, и...</td>\n",
       "      <td>[devops, разработка, администрирование, спасиб...</td>\n",
       "      <td>18  февраля   в 18:00</td>\n",
       "    </tr>\n",
       "  </tbody>\n",
       "</table>\n",
       "</div>"
      ],
      "text/plain": [
       "    company                                        description  rate  \\\n",
       "0       0.0                                                0.0   0.0   \n",
       "1  X5 Group  1    X5 Group — это одна из ведущих компаний р...  -0.6   \n",
       "2  X5 Group  1    X5 Group — это одна из ведущих компаний р...  -0.6   \n",
       "3  X5 Group  1    X5 Group — это одна из ведущих компаний р...  -0.6   \n",
       "4  X5 Group  1    X5 Group — это одна из ведущих компаний р...     0   \n",
       "\n",
       "                                           blog_post  \\\n",
       "0                                                0.0   \n",
       "1  Привет! Недавно X5 провела митап об опенсорсно...   \n",
       "2  Привет! Меня зовут Сергей Тетерюков, и я работ...   \n",
       "3  X5 Tech приглашает студентов и выпускников вуз...   \n",
       "4  Привет! Меня зовут Кирилл Цветков. Я DevOps, и...   \n",
       "\n",
       "                                                tags                   date  \n",
       "0                                                0.0                    0.0  \n",
       "1  [x5retailgroup, keycloak, базы данных, открыты...     3  марта   в 16:21  \n",
       "2  [x5retailgroup, база данных, big data, cassand...     1  марта   в 16:27  \n",
       "3  [x5retailgroup, обучение, big data, большие да...  26  февраля   в 15:38  \n",
       "4  [devops, разработка, администрирование, спасиб...  18  февраля   в 18:00  "
      ]
     },
     "execution_count": 761,
     "metadata": {},
     "output_type": "execute_result"
    }
   ],
   "source": [
    "df.head(5)"
   ]
  },
  {
   "cell_type": "code",
   "execution_count": 776,
   "id": "66354140",
   "metadata": {},
   "outputs": [],
   "source": [
    "df = df.drop(0)"
   ]
  },
  {
   "cell_type": "code",
   "execution_count": 778,
   "id": "ebcc148d",
   "metadata": {},
   "outputs": [
    {
     "data": {
      "text/plain": [
       "(81,)"
      ]
     },
     "execution_count": 778,
     "metadata": {},
     "output_type": "execute_result"
    }
   ],
   "source": [
    "df.blog_post.unique().shape"
   ]
  },
  {
   "cell_type": "code",
   "execution_count": 781,
   "id": "ffc86ea6",
   "metadata": {},
   "outputs": [],
   "source": [
    "# Добавляем целевую выборку для будущей кластеризации\n",
    "dict_target = {\n",
    "    'Благотворительный фонд “Подари жизнь”': 'Государство и Общество',\n",
    "    'АНО “Диалог”': 'Государство и Общество',\n",
    "    'Правительство Москвы, проект Цифровая экосистема Москвы': 'Государство и Общество',\n",
    "    'ФНС России': 'Государство и Общество',\n",
    "    'Пушкинская карта': 'Государство и Общество',\n",
    "    'Телеканал 360': 'СМИ и Массовые коммуникации',\n",
    "    'Медиахолдинг Independent Media': 'СМИ и Массовые коммуникации',\n",
    "    'X5 Group': 'СМИ и Массовые коммуникации',\n",
    "    'Коммерсантъ': 'СМИ и Массовые коммуникации',\n",
    "    'Электронный дневник (МЭШ)': 'Образование и Кадры',\n",
    "    'Проект программы “Сбер для детей и родителей” совместно с Rambler&Co': 'Образование и Кадры',\n",
    "    'ООО “Цифровое образование”, проект ИКОП “Сферум”': 'Образование и Кадры',\n",
    "    'Нетология ': 'Образование и Кадры',\n",
    "    'Компания Samsung Electronics': 'Образование и Кадры',\n",
    "    'Gett': 'Наука, технологии и инновации',\n",
    "    'Иннотех': 'Наука, технологии и инновации',\n",
    "    'Skillbox': 'Наука, технологии и инновации',\n",
    "    'Промобот': 'Наука, технологии и инновации',\n",
    "    'SberDevices и Rambler&Co ': 'Наука, технологии и инновации',\n",
    "    'Билайн': 'Наука, технологии и инновации',\n",
    "    'Общественное телевидение России': 'Культурные проекты в Сети',\n",
    "    'Проект “Путь героя” информационного агентства ТАСС и киностудии “Союзмультфильм”': 'Культурные проекты в Сети',\n",
    "    'Эмпатия Манучи (авторский канал Манучарова Вячеслава)': 'Культурные проекты в Сети',\n",
    "    'Федеральное государственное бюджетное учреждение культуры \"Всероссийское музейное объединение “Государственная Третьяковская галерея”': 'Культурные проекты в Сети',\n",
    "    'Федерация компьютерного спорта города Москвы — “Московский Киберспорт”\\xa0': 'Игровая индустрия и киберспорт',\n",
    "    'ESforce Holding': 'Игровая индустрия и киберспорт',\n",
    "    'Cybersport.Metaratings': 'Игровая индустрия и киберспорт',\n",
    "    'MetaMMA': 'Игровая индустрия и киберспорт',\n",
    "    'Goose Gaming': 'Игровая индустрия и киберспорт',\n",
    "    'Федерация креативных индустрий': 'Креативные индустрии',\n",
    "    'Гэллэри Сервис': 'Креативные индустрии',\n",
    "    'Vinci Agency': 'Креативные индустрии',\n",
    "    'Студия Артемия Лебедева': 'Креативные индустрии',\n",
    "    'Здоровье.ру': 'Здоровье и медицина',\n",
    "    'Здоровое Питание': 'Здоровье и медицина',\n",
    "    'Проект по использованию технологий компьютерного зрения на базе искусственного интеллекта (ИИ) для анализа медицинских изображений': 'Здоровье и медицина',\n",
    "    'СберМаркет': 'Экономика и бизнес',\n",
    "    'Balance Platform': 'Экономика и бизнес',\n",
    "    'Московская биржа': 'Экономика и бизнес',\n",
    "    'Метарейтинг': 'Экономика и бизнес',\n",
    "    'Портал для предпринимателей Smallbusiness.ru': 'За развитие среднего и малого бизнеса в Рунете',\n",
    "    'ПАО \"МТС\", проект “Знаем лично”': 'За развитие среднего и малого бизнеса в Рунете',\n",
    "    'Банк ВТБ ПАО, проект интернет-банк': 'За развитие среднего и малого бизнеса в Рунете',\n",
    "    'Автономная некоммерческая организация по развитию экологических, социальных и патриотических проектов “Сад Памяти”': '#СЧАСТЬЕЕСТЬ',\n",
    "    'Oh My Град': 'Развитие внутреннего туризма',\n",
    "    'Россия: 85 приключений, проект онлайн-медиа Russia Beyond, входящее в телесеть RT': 'Развитие внутреннего туризма',\n",
    "    'АНО “Проектный офис по развитию туризма и гостеприимства Москвы” Туристический сервис RUSSPASS': 'Развитие внутреннего туризма',\n",
    "    'Discovermoscow.com': 'Развитие внутреннего туризма',\n",
    "    'Мэр Вологды — Сергей Воропанов': 'Открытые коммуникации',\n",
    "    'Правительство Тульской области': 'Открытые коммуникации',\n",
    "    'Russia.travel': 'Открытые коммуникации'\n",
    "}"
   ]
  },
  {
   "cell_type": "code",
   "execution_count": 782,
   "id": "adcb2b42",
   "metadata": {},
   "outputs": [],
   "source": [
    "all_target = []\n",
    "\n",
    "for company in df.company:\n",
    "    all_target.append(dict_target[company])\n",
    "df['target'] = all_target"
   ]
  },
  {
   "cell_type": "code",
   "execution_count": 783,
   "id": "4b525c16",
   "metadata": {},
   "outputs": [],
   "source": [
    "df.to_csv('dataset_parsed.csv', index=False)"
   ]
  },
  {
   "cell_type": "code",
   "execution_count": null,
   "id": "f4446a5b",
   "metadata": {},
   "outputs": [],
   "source": [
    "# ОТФОРМАТИРОВАТЬ DF\n",
    "df = df"
   ]
  },
  {
   "cell_type": "code",
   "execution_count": null,
   "id": "4db09d35",
   "metadata": {},
   "outputs": [],
   "source": [
    "# СОЕДИНИТЬ ДАТА JSON И DF\n",
    "df = df.append(data, ignore_index=True)"
   ]
  },
  {
   "cell_type": "markdown",
   "id": "5aca5535",
   "metadata": {},
   "source": [
    "### Предобработка"
   ]
  },
  {
   "cell_type": "code",
   "execution_count": 786,
   "id": "c6d8fa3c",
   "metadata": {},
   "outputs": [],
   "source": [
    "import re\n",
    "import pymorphy2\n",
    "from functools import lru_cache\n",
    "\n",
    "morph = pymorphy2.MorphAnalyzer()"
   ]
  },
  {
   "cell_type": "markdown",
   "id": "02597688",
   "metadata": {},
   "source": [
    "**Импорт стоп-слов**\n",
    "\n",
    "(Ссылка на гитхаб)[https://github.com/stopwords-iso/stopwords-ru/blob/master/stopwords-ru.txt]"
   ]
  },
  {
   "cell_type": "code",
   "execution_count": 785,
   "id": "1cd10cd4",
   "metadata": {},
   "outputs": [],
   "source": [
    "stop_words = list(map(lambda x: x.strip(), open('stop_words.txt').readlines()))"
   ]
  },
  {
   "cell_type": "markdown",
   "id": "11c86cf5",
   "metadata": {},
   "source": [
    "**Лемматизация**\n",
    "\n",
    "Ф-ия приведения слов к их начальной форме."
   ]
  },
  {
   "cell_type": "code",
   "execution_count": 787,
   "id": "0d8faf2c",
   "metadata": {},
   "outputs": [],
   "source": [
    "@lru_cache() # динамика\n",
    "def word2norm(word):\n",
    "    return morph.parse(word)[0].normal_form"
   ]
  },
  {
   "cell_type": "markdown",
   "id": "37cc4d53",
   "metadata": {},
   "source": [
    "**Ф-ия предобработки**\n",
    "\n",
    "Построения языкового корпуса."
   ]
  },
  {
   "cell_type": "code",
   "execution_count": 800,
   "id": "70fba8c6",
   "metadata": {},
   "outputs": [],
   "source": [
    "word2normal_form = {}\n",
    "\n",
    "def preprocess_text(text):\n",
    "#     if pd.isna(text):\n",
    "#         return ''\n",
    "    \n",
    "    clean_text = re.sub(re.compile('<.*?>'), '', str(text)) # очистка данных - удаление тегов html\n",
    "    clean_text = re.sub('[^А-Яа-яA-Za-z]', ' ', str(text)) # очистка данных - удаление всех символов, не относящихся к буквам\n",
    "    clean_text = clean_text.lower() # изменение на нижний регистр\n",
    "    \n",
    "    norm_text_words = []\n",
    "    for word in clean_text.split():\n",
    "        if word in stop_words:\n",
    "            continue # проверка на наличие слова в списке стоп-слов\n",
    "        if word not in word2normal_form:\n",
    "            normal_form = morph.parse(word)[0].normal_form # лемматизация с динамикой\n",
    "            word2normal_form[word] = normal_form\n",
    "        else:\n",
    "            normal_form = word2normal_form[word]\n",
    "        norm_text_words.append(normal_form)\n",
    "        \n",
    "    norm_text = ' '.join(norm_text_words)\n",
    "    return norm_text"
   ]
  },
  {
   "cell_type": "code",
   "execution_count": 802,
   "id": "36768116",
   "metadata": {},
   "outputs": [
    {
     "data": {
      "text/plain": [
       "False"
      ]
     },
     "execution_count": 802,
     "metadata": {},
     "output_type": "execute_result"
    }
   ],
   "source": [
    "pd.isna(df.description).any()"
   ]
  },
  {
   "cell_type": "code",
   "execution_count": 809,
   "id": "2b98e4c4",
   "metadata": {},
   "outputs": [
    {
     "name": "stderr",
     "output_type": "stream",
     "text": [
      "\n",
      "\n",
      "\n",
      "\n",
      "\n",
      "  0%|                                                                      | 0/101 [00:00<?, ?it/s]\u001b[A\u001b[A\u001b[A\u001b[A\u001b[A\n",
      "\n",
      "\n",
      "\n",
      "\n",
      "100%|███████████████████████████████████████████████████████████| 101/101 [00:00<00:00, 897.95it/s]\u001b[A\u001b[A\u001b[A\u001b[A\u001b[A\n",
      "\n",
      "\n",
      "\n",
      "\n",
      "\n",
      "  0%|                                                                      | 0/101 [00:00<?, ?it/s]\u001b[A\u001b[A\u001b[A\u001b[A\u001b[A\n",
      "\n",
      "\n",
      "\n",
      "\n",
      "  5%|███                                                           | 5/101 [00:00<00:01, 49.86it/s]\u001b[A\u001b[A\u001b[A\u001b[A\u001b[A\n",
      "\n",
      "\n",
      "\n",
      "\n",
      " 12%|███████▏                                                     | 12/101 [00:00<00:01, 60.49it/s]\u001b[A\u001b[A\u001b[A\u001b[A\u001b[A\n",
      "\n",
      "\n",
      "\n",
      "\n",
      " 21%|████████████▋                                                | 21/101 [00:00<00:01, 72.52it/s]\u001b[A\u001b[A\u001b[A\u001b[A\u001b[A\n",
      "\n",
      "\n",
      "\n",
      "\n",
      " 29%|█████████████████▌                                           | 29/101 [00:00<00:01, 68.03it/s]\u001b[A\u001b[A\u001b[A\u001b[A\u001b[A\n",
      "\n",
      "\n",
      "\n",
      "\n",
      " 41%|████████████████████████▊                                    | 41/101 [00:00<00:00, 85.20it/s]\u001b[A\u001b[A\u001b[A\u001b[A\u001b[A\n",
      "\n",
      "\n",
      "\n",
      "\n",
      " 50%|██████████████████████████████▏                              | 50/101 [00:00<00:00, 81.03it/s]\u001b[A\u001b[A\u001b[A\u001b[A\u001b[A\n",
      "\n",
      "\n",
      "\n",
      "\n",
      " 58%|███████████████████████████████████▋                         | 59/101 [00:00<00:00, 77.13it/s]\u001b[A\u001b[A\u001b[A\u001b[A\u001b[A\n",
      "\n",
      "\n",
      "\n",
      "\n",
      " 66%|████████████████████████████████████████▍                    | 67/101 [00:00<00:00, 77.43it/s]\u001b[A\u001b[A\u001b[A\u001b[A\u001b[A\n",
      "\n",
      "\n",
      "\n",
      "\n",
      " 74%|█████████████████████████████████████████████▎               | 75/101 [00:00<00:00, 76.85it/s]\u001b[A\u001b[A\u001b[A\u001b[A\u001b[A\n",
      "\n",
      "\n",
      "\n",
      "\n",
      " 83%|██████████████████████████████████████████████████▋          | 84/101 [00:01<00:00, 80.05it/s]\u001b[A\u001b[A\u001b[A\u001b[A\u001b[A\n",
      "\n",
      "\n",
      "\n",
      "\n",
      "100%|████████████████████████████████████████████████████████████| 101/101 [00:01<00:00, 76.97it/s]\u001b[A\u001b[A\u001b[A\u001b[A\u001b[A\n"
     ]
    }
   ],
   "source": [
    "clean_descriptions = []\n",
    "clean_posts = []\n",
    "\n",
    "for text in tqdm(df.description):\n",
    "    clean_desc = preprocess_text(text)\n",
    "    clean_descriptions.append(clean_desc)\n",
    "    \n",
    "for text in tqdm(df.blog_post):\n",
    "    clean_post = preprocess_text(text)\n",
    "    clean_posts.append(clean_post)"
   ]
  },
  {
   "cell_type": "code",
   "execution_count": 811,
   "id": "4811f2de",
   "metadata": {},
   "outputs": [],
   "source": [
    "df['clean_posts'] = clean_posts\n",
    "df['clean_descriptions'] = clean_descriptions"
   ]
  },
  {
   "cell_type": "code",
   "execution_count": 821,
   "id": "e83d2cfc",
   "metadata": {},
   "outputs": [
    {
     "data": {
      "text/html": [
       "<div>\n",
       "<style scoped>\n",
       "    .dataframe tbody tr th:only-of-type {\n",
       "        vertical-align: middle;\n",
       "    }\n",
       "\n",
       "    .dataframe tbody tr th {\n",
       "        vertical-align: top;\n",
       "    }\n",
       "\n",
       "    .dataframe thead th {\n",
       "        text-align: right;\n",
       "    }\n",
       "</style>\n",
       "<table border=\"1\" class=\"dataframe\">\n",
       "  <thead>\n",
       "    <tr style=\"text-align: right;\">\n",
       "      <th></th>\n",
       "      <th>company</th>\n",
       "      <th>description</th>\n",
       "      <th>rate</th>\n",
       "      <th>blog_post</th>\n",
       "      <th>tags</th>\n",
       "      <th>date</th>\n",
       "      <th>target</th>\n",
       "      <th>clean_posts</th>\n",
       "      <th>clean_descriptions</th>\n",
       "    </tr>\n",
       "  </thead>\n",
       "  <tbody>\n",
       "    <tr>\n",
       "      <th>1</th>\n",
       "      <td>X5 Group</td>\n",
       "      <td>1    X5 Group — это одна из ведущих компаний р...</td>\n",
       "      <td>-0.6</td>\n",
       "      <td>Привет! Недавно X5 провела митап об опенсорсно...</td>\n",
       "      <td>[x5retailgroup, keycloak, базы данных, открыты...</td>\n",
       "      <td>3  марта   в 16:21</td>\n",
       "      <td>СМИ и Массовые коммуникации</td>\n",
       "      <td>привет x провести митапа опенсорсный проект ke...</td>\n",
       "      <td>x group один ведущий компания рынок name descr...</td>\n",
       "    </tr>\n",
       "    <tr>\n",
       "      <th>2</th>\n",
       "      <td>X5 Group</td>\n",
       "      <td>1    X5 Group — это одна из ведущих компаний р...</td>\n",
       "      <td>-0.6</td>\n",
       "      <td>Привет! Меня зовут Сергей Тетерюков, и я работ...</td>\n",
       "      <td>[x5retailgroup, база данных, big data, cassand...</td>\n",
       "      <td>1  марта   в 16:27</td>\n",
       "      <td>СМИ и Массовые коммуникации</td>\n",
       "      <td>привет звать сергей тетерюков работать инженер...</td>\n",
       "      <td>x group один ведущий компания рынок name descr...</td>\n",
       "    </tr>\n",
       "    <tr>\n",
       "      <th>3</th>\n",
       "      <td>X5 Group</td>\n",
       "      <td>1    X5 Group — это одна из ведущих компаний р...</td>\n",
       "      <td>-0.6</td>\n",
       "      <td>X5 Tech приглашает студентов и выпускников вуз...</td>\n",
       "      <td>[x5retailgroup, обучение, big data, большие да...</td>\n",
       "      <td>26  февраля   в 15:38</td>\n",
       "      <td>СМИ и Массовые коммуникации</td>\n",
       "      <td>x tech приглашать студент выпускник вуз пройти...</td>\n",
       "      <td>x group один ведущий компания рынок name descr...</td>\n",
       "    </tr>\n",
       "  </tbody>\n",
       "</table>\n",
       "</div>"
      ],
      "text/plain": [
       "    company                                        description  rate  \\\n",
       "1  X5 Group  1    X5 Group — это одна из ведущих компаний р...  -0.6   \n",
       "2  X5 Group  1    X5 Group — это одна из ведущих компаний р...  -0.6   \n",
       "3  X5 Group  1    X5 Group — это одна из ведущих компаний р...  -0.6   \n",
       "\n",
       "                                           blog_post  \\\n",
       "1  Привет! Недавно X5 провела митап об опенсорсно...   \n",
       "2  Привет! Меня зовут Сергей Тетерюков, и я работ...   \n",
       "3  X5 Tech приглашает студентов и выпускников вуз...   \n",
       "\n",
       "                                                tags                   date  \\\n",
       "1  [x5retailgroup, keycloak, базы данных, открыты...     3  марта   в 16:21   \n",
       "2  [x5retailgroup, база данных, big data, cassand...     1  марта   в 16:27   \n",
       "3  [x5retailgroup, обучение, big data, большие да...  26  февраля   в 15:38   \n",
       "\n",
       "                        target  \\\n",
       "1  СМИ и Массовые коммуникации   \n",
       "2  СМИ и Массовые коммуникации   \n",
       "3  СМИ и Массовые коммуникации   \n",
       "\n",
       "                                         clean_posts  \\\n",
       "1  привет x провести митапа опенсорсный проект ke...   \n",
       "2  привет звать сергей тетерюков работать инженер...   \n",
       "3  x tech приглашать студент выпускник вуз пройти...   \n",
       "\n",
       "                                  clean_descriptions  \n",
       "1  x group один ведущий компания рынок name descr...  \n",
       "2  x group один ведущий компания рынок name descr...  \n",
       "3  x group один ведущий компания рынок name descr...  "
      ]
     },
     "execution_count": 821,
     "metadata": {},
     "output_type": "execute_result"
    }
   ],
   "source": [
    "df.head(3)"
   ]
  },
  {
   "cell_type": "code",
   "execution_count": 822,
   "id": "846d85fe",
   "metadata": {},
   "outputs": [],
   "source": [
    "df.to_csv('dataset_cleaned.csv', index=False)"
   ]
  }
 ],
 "metadata": {
  "kernelspec": {
   "display_name": "Python 3 (ipykernel)",
   "language": "python",
   "name": "python3"
  },
  "language_info": {
   "codemirror_mode": {
    "name": "ipython",
    "version": 3
   },
   "file_extension": ".py",
   "mimetype": "text/x-python",
   "name": "python",
   "nbconvert_exporter": "python",
   "pygments_lexer": "ipython3",
   "version": "3.9.7"
  }
 },
 "nbformat": 4,
 "nbformat_minor": 5
}
